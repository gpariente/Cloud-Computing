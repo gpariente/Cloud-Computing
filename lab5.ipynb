{
  "nbformat": 4,
  "nbformat_minor": 0,
  "metadata": {
    "colab": {
      "provenance": [],
      "authorship_tag": "ABX9TyPbi9rHMDBhIvolf1mCOMpv",
      "include_colab_link": true
    },
    "kernelspec": {
      "name": "python3",
      "display_name": "Python 3"
    },
    "language_info": {
      "name": "python"
    }
  },
  "cells": [
    {
      "cell_type": "markdown",
      "metadata": {
        "id": "view-in-github",
        "colab_type": "text"
      },
      "source": [
        "<a href=\"https://colab.research.google.com/github/gpariente/Cloud-Computing/blob/main/lab5.ipynb\" target=\"_parent\"><img src=\"https://colab.research.google.com/assets/colab-badge.svg\" alt=\"Open In Colab\"/></a>"
      ]
    },
    {
      "cell_type": "code",
      "source": [
        "!pip install firebase"
      ],
      "metadata": {
        "colab": {
          "base_uri": "https://localhost:8080/"
        },
        "id": "z336t-3Ha7n4",
        "outputId": "fd1715c7-15d3-4d9e-c66b-b5e6d7dd3b2c"
      },
      "execution_count": 2,
      "outputs": [
        {
          "output_type": "stream",
          "name": "stdout",
          "text": [
            "Collecting firebase\n",
            "  Downloading firebase-4.0.1-py3-none-any.whl (12 kB)\n",
            "Requirement already satisfied: requests in /usr/local/lib/python3.10/dist-packages (from firebase) (2.31.0)\n",
            "Requirement already satisfied: charset-normalizer<4,>=2 in /usr/local/lib/python3.10/dist-packages (from requests->firebase) (3.3.2)\n",
            "Requirement already satisfied: idna<4,>=2.5 in /usr/local/lib/python3.10/dist-packages (from requests->firebase) (3.6)\n",
            "Requirement already satisfied: urllib3<3,>=1.21.1 in /usr/local/lib/python3.10/dist-packages (from requests->firebase) (2.0.7)\n",
            "Requirement already satisfied: certifi>=2017.4.17 in /usr/local/lib/python3.10/dist-packages (from requests->firebase) (2024.2.2)\n",
            "Installing collected packages: firebase\n",
            "Successfully installed firebase-4.0.1\n"
          ]
        }
      ]
    },
    {
      "cell_type": "code",
      "source": [
        "from firebase import firebase\n",
        "FBconn = firebase.FirebaseApplication('https://lab52-5410e-default-rtdb.europe-west1.firebasedatabase.app/', None)\n",
        "numOfStuents = int(input(\"How many members in the group?\"))\n",
        "students_data = []\n",
        "for i in range(numOfStuents):\n",
        "  print(f\"Student number {i+1}\")\n",
        "  students_data += [\n",
        "    {\"firstname\": input(\"Enter firstname: \"),\n",
        "     \"lastname\": input(\"Enter lastname: \"),\n",
        "     \"Email\": input(\"Enter email: \"),\n",
        "     \"courses\": [input(\"Enter course name: \") for _ in range(int(input(\"Enter how many courses you take this semester: \")))],\n",
        "     \"favorite show\": input(\"Enter your favorite show: \")}\n",
        "    ]\n",
        "result = FBconn.post('/Lab5/', students_data)"
      ],
      "metadata": {
        "colab": {
          "base_uri": "https://localhost:8080/"
        },
        "id": "aYXVVTq7Xsuu",
        "outputId": "8c92436c-edd0-4e54-87a6-efbca8d317c0"
      },
      "execution_count": 5,
      "outputs": [
        {
          "output_type": "stream",
          "name": "stdout",
          "text": [
            "How many members in the group?2\n",
            "Student number 1\n",
            "Enter firstname: ofek\n",
            "Enter lastname: ben avraham\n",
            "Enter email: ob@gmail.com\n",
            "Enter how many courses you take this semester: 1\n",
            "Enter course name: python\n",
            "Enter your favorite show: dragon ball\n",
            "Student number 2\n",
            "Enter firstname: maayani\n",
            "Enter lastname: avittani\n",
            "Enter email: ma@g,ail.com\n",
            "Enter how many courses you take this semester: 1\n",
            "Enter course name: c++\n",
            "Enter your favorite show: better call sol\n",
            "{'name': '-NqNeE7IX2Mhfi_mTxHv'}\n"
          ]
        }
      ]
    },
    {
      "cell_type": "code",
      "source": [
        "from firebase import firebase\n",
        "import json\n",
        "\n",
        "FBconn = firebase.FirebaseApplication('https://lab52-5410e-default-rtdb.europe-west1.firebasedatabase.app/', None)\n",
        "res = FBconn.get('/Lab5/', None)\n",
        "\n",
        "if res:\n",
        "    json_data = json.dumps(res, indent=4)\n",
        "    print(json_data)\n",
        "else:\n",
        "    print(\"No data found or the data is not in expected format.\")\n"
      ],
      "metadata": {
        "colab": {
          "base_uri": "https://localhost:8080/"
        },
        "id": "dkExMcLGphvu",
        "outputId": "75907c8a-b2b3-486b-ac01-37c7b1ac58c7"
      },
      "execution_count": 11,
      "outputs": [
        {
          "output_type": "stream",
          "name": "stdout",
          "text": [
            "{\n",
            "    \"-NqNeE7IX2Mhfi_mTxHv\": [\n",
            "        {\n",
            "            \"Email\": \"ob@gmail.com\",\n",
            "            \"courses\": [\n",
            "                \"python\"\n",
            "            ],\n",
            "            \"favorite show\": \"dragon ball\",\n",
            "            \"firstname\": \"ofek\",\n",
            "            \"lastname\": \"ben avraham\"\n",
            "        },\n",
            "        {\n",
            "            \"Email\": \"ma@g,ail.com\",\n",
            "            \"courses\": [\n",
            "                \"c++\"\n",
            "            ],\n",
            "            \"favorite show\": \"better call sol\",\n",
            "            \"firstname\": \"maayani\",\n",
            "            \"lastname\": \"avittani\"\n",
            "        }\n",
            "    ]\n",
            "}\n"
          ]
        }
      ]
    }
  ]
}