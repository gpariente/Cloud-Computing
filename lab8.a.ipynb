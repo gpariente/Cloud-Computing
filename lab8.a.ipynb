{
  "cells": [
    {
      "cell_type": "markdown",
      "metadata": {
        "id": "view-in-github",
        "colab_type": "text"
      },
      "source": [
        "<a href=\"https://colab.research.google.com/github/gpariente/Cloud-Computing/blob/main/lab8.a.ipynb\" target=\"_parent\"><img src=\"https://colab.research.google.com/assets/colab-badge.svg\" alt=\"Open In Colab\"/></a>"
      ]
    },
    {
      "cell_type": "code",
      "source": [
        "!pip install nltk\n",
        "\n",
        "import nltk\n",
        "from nltk.chat.util import Chat, reflections\n"
      ],
      "metadata": {
        "colab": {
          "base_uri": "https://localhost:8080/"
        },
        "id": "GafCVY1ljzro",
        "outputId": "d399119d-5500-4f3f-a341-6bbf7d85287c"
      },
      "execution_count": 16,
      "outputs": [
        {
          "output_type": "stream",
          "name": "stdout",
          "text": [
            "Requirement already satisfied: nltk in /usr/local/lib/python3.10/dist-packages (3.8.1)\n",
            "Requirement already satisfied: click in /usr/local/lib/python3.10/dist-packages (from nltk) (8.1.7)\n",
            "Requirement already satisfied: joblib in /usr/local/lib/python3.10/dist-packages (from nltk) (1.3.2)\n",
            "Requirement already satisfied: regex>=2021.8.3 in /usr/local/lib/python3.10/dist-packages (from nltk) (2023.12.25)\n",
            "Requirement already satisfied: tqdm in /usr/local/lib/python3.10/dist-packages (from nltk) (4.66.2)\n"
          ]
        }
      ]
    },
    {
      "cell_type": "code",
      "execution_count": null,
      "metadata": {
        "colab": {
          "base_uri": "https://localhost:8080/"
        },
        "id": "h7WzAXmgRllk",
        "outputId": "04d7a348-0ba2-49e4-b196-493cbb5d8ac8"
      },
      "outputs": [
        {
          "output_type": "stream",
          "name": "stderr",
          "text": [
            "[nltk_data] Downloading package punkt to /root/nltk_data...\n",
            "[nltk_data]   Package punkt is already up-to-date!\n",
            "[nltk_data] Downloading package wordnet to /root/nltk_data...\n",
            "[nltk_data]   Package wordnet is already up-to-date!\n"
          ]
        },
        {
          "output_type": "stream",
          "name": "stdout",
          "text": [
            "Hello! I'm ChatGPT. How can I help you today?\n",
            "You: hey\n",
            "ChatGPT: Hey!\n"
          ]
        }
      ],
      "source": [
        "\n",
        "# Download necessary NLTK data\n",
        "nltk.download('punkt')\n",
        "nltk.download('wordnet')\n",
        "\n",
        "# Define some patterns and responses\n",
        "patterns = [\n",
        "    (r'hi|hello|hey', ['Hello!', 'Hi there!', 'Hey!']),\n",
        "    (r'how are you?', ['I\\'m good, thank you!', 'I\\'m doing well, thanks for asking.']),\n",
        "    (r'what is your name?', ['You can call me ChatGPT.', 'I go by the name ChatGPT.']),\n",
        "    (r'(.*) your name?', ['You can call me ChatGPT.', 'I go by the name ChatGPT.']),\n",
        "    (r'how does this search engine work?', ['You can search for any Salesforce-related topics by typing keywords into the search bar.', 'Just enter your query in the search bar, and I\\'ll find the most relevant Salesforce.com content for you.']),\n",
        "    (r'what are the top search keywords?', ['The top search keywords are displayed in the navbar. They reflect the most popular searches related to Salesforce.', 'You can find the top 10 words in the statistics section of the navbar, showing what users frequently search for on Salesforce.']),\n",
        "    (r'can you find information on (.*)?', ['Sure, I can help you search for information on %1 on Salesforce.com. Just a moment.', 'Let me look that up for you. I\\'ll find information on %1 in Salesforce.com.']),\n",
        "    (r'I\\'m looking for (.*) on Salesforce', ['Okay, searching for %1 on Salesforce.com. I\\'ll get you the information in no time.', 'I can help with that. Let me find %1 for you on Salesforce.com.']),\n",
        "    (r'help me with (.*)', ['What do you need help with regarding %1? I can provide information or direct you to the right resources on Salesforce.com.', 'Sure, I can assist you with %1. How may I help you specifically?']),\n",
        "    (r'(.*) error in Salesforce', ['I see you\\'re having an issue with %1. While I can\\'t fix errors directly, I can guide you to troubleshooting information.', 'Errors can be tricky. I\\'ll try to find some help articles about %1 error for you.']),\n",
        "    (r'guide me through (.*) feature', ['Sure, I can provide guidance on the %1 feature. What do you need help with?', 'Let me help you with the %1 feature. Can you specify what you\\'re looking for?']),\n",
        "    (r'how to create (.*) in Salesforce', ['Creating %1 in Salesforce involves a few steps. I can guide you through the process. Where would you like to start?', 'To create %1 in Salesforce, you\\'ll need to follow specific steps. I can provide instructions or direct you to resources.']),\n",
        "    (r'(.*) integration with Salesforce', ['Integrating %1 with Salesforce can enhance your workflow. What specifics are you interested in?', 'For %1 integration with Salesforce, there are several approaches. Do you have a particular method in mind?']),\n",
        "    (r'what is the best practice for (.*)', ['Best practices for %1 include following Salesforce guidelines and industry standards. Would you like more detailed advice?', 'There are several best practices for %1 in Salesforce. I can provide recommendations or direct you to expert articles.']),\n",
        "    (r'update information on (.*)', ['To update information on %1, you can go to the specific section in Salesforce and edit the details. Need more specific instructions?', 'Updating %1 in Salesforce is straightforward. Would you like a step-by-step guide or just some quick tips?']),\n",
        "    (r'fix (.*) issue in Salesforce', ['Fixing %1 issue might require some troubleshooting steps. Can you describe the problem in more detail?', 'Let\\'s try to resolve the %1 issue. I can suggest common solutions or find relevant help articles for you.']),\n",
        "    (r'(.*) discount or offer', ['Looking for discounts or offers on %1? While I can\\'t provide deals directly, I can show you where to find any available promotions.', 'If you\\'re seeking discounts or special offers for %1, checking the official Salesforce promotions page or contacting sales might be helpful.']),\n",
        "    (r'latest Salesforce updates?', ['To find the latest Salesforce updates, you can check the official Salesforce release notes or the updates section on their website.', 'Keeping up with the latest Salesforce updates is essential. You can find the most recent changes and features in the Salesforce release notes.']),\n",
        "    (r'compare (.*) and (.*) in Salesforce', ['Comparing %1 and %2 in Salesforce can depend on various factors. Are you looking at features, functionality, or pricing?', 'To compare %1 and %2 in Salesforce, it\\'s important to consider your specific needs and how each option meets them. Would you like a detailed comparison?']),\n",
        "]\n",
        "\n",
        "\n",
        "# Create a chatbot\n",
        "chatbot = Chat(patterns, reflections)\n",
        "\n",
        "# Start the conversation\n",
        "print(\"Hello! I'm ChatGPT. How can I help you today?\")\n",
        "while True:\n",
        "    user_input = input(\"You: \")\n",
        "    response = chatbot.respond(user_input)\n",
        "    print(\"ChatGPT:\", response)"
      ]
    },
    {
      "cell_type": "code",
      "source": [
        "pip install v-diffusion-pytorch"
      ],
      "metadata": {
        "id": "TGPjDdKc0l13"
      },
      "execution_count": null,
      "outputs": []
    }
  ],
  "metadata": {
    "colab": {
      "provenance": [],
      "include_colab_link": true
    },
    "kernelspec": {
      "display_name": "Python 3",
      "name": "python3"
    },
    "language_info": {
      "name": "python"
    }
  },
  "nbformat": 4,
  "nbformat_minor": 0
}