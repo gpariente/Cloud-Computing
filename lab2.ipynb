{
  "nbformat": 4,
  "nbformat_minor": 0,
  "metadata": {
    "colab": {
      "provenance": [],
      "authorship_tag": "ABX9TyNopm7dMQ8g8edVIlHpzm9z",
      "include_colab_link": true
    },
    "kernelspec": {
      "name": "python3",
      "display_name": "Python 3"
    },
    "language_info": {
      "name": "python"
    },
    "widgets": {
      "application/vnd.jupyter.widget-state+json": {
        "0c6b0d088c8c43e0938c56707e41aaf8": {
          "model_module": "@jupyter-widgets/controls",
          "model_name": "DropdownModel",
          "model_module_version": "1.5.0",
          "state": {
            "_dom_classes": [],
            "_model_module": "@jupyter-widgets/controls",
            "_model_module_version": "1.5.0",
            "_model_name": "DropdownModel",
            "_options_labels": [
              "Guy Pariente",
              "Rotem Porat",
              "Almog Elbaz",
              "Maayan Avittan",
              "Ofek Ben Avraham"
            ],
            "_view_count": null,
            "_view_module": "@jupyter-widgets/controls",
            "_view_module_version": "1.5.0",
            "_view_name": "DropdownView",
            "description": "Select Student:",
            "description_tooltip": null,
            "disabled": false,
            "index": 0,
            "layout": "IPY_MODEL_c7ea3fd877d04fbeab9112f08dda0a39",
            "style": "IPY_MODEL_83a2df4c06144942990b68ba515318b7"
          }
        },
        "c7ea3fd877d04fbeab9112f08dda0a39": {
          "model_module": "@jupyter-widgets/base",
          "model_name": "LayoutModel",
          "model_module_version": "1.2.0",
          "state": {
            "_model_module": "@jupyter-widgets/base",
            "_model_module_version": "1.2.0",
            "_model_name": "LayoutModel",
            "_view_count": null,
            "_view_module": "@jupyter-widgets/base",
            "_view_module_version": "1.2.0",
            "_view_name": "LayoutView",
            "align_content": null,
            "align_items": null,
            "align_self": null,
            "border": null,
            "bottom": null,
            "display": null,
            "flex": null,
            "flex_flow": null,
            "grid_area": null,
            "grid_auto_columns": null,
            "grid_auto_flow": null,
            "grid_auto_rows": null,
            "grid_column": null,
            "grid_gap": null,
            "grid_row": null,
            "grid_template_areas": null,
            "grid_template_columns": null,
            "grid_template_rows": null,
            "height": null,
            "justify_content": null,
            "justify_items": null,
            "left": null,
            "margin": null,
            "max_height": null,
            "max_width": null,
            "min_height": null,
            "min_width": null,
            "object_fit": null,
            "object_position": null,
            "order": null,
            "overflow": null,
            "overflow_x": null,
            "overflow_y": null,
            "padding": null,
            "right": null,
            "top": null,
            "visibility": null,
            "width": null
          }
        },
        "83a2df4c06144942990b68ba515318b7": {
          "model_module": "@jupyter-widgets/controls",
          "model_name": "DescriptionStyleModel",
          "model_module_version": "1.5.0",
          "state": {
            "_model_module": "@jupyter-widgets/controls",
            "_model_module_version": "1.5.0",
            "_model_name": "DescriptionStyleModel",
            "_view_count": null,
            "_view_module": "@jupyter-widgets/base",
            "_view_module_version": "1.2.0",
            "_view_name": "StyleView",
            "description_width": ""
          }
        },
        "fe7185038b694c088de2695568a084d7": {
          "model_module": "@jupyter-widgets/output",
          "model_name": "OutputModel",
          "model_module_version": "1.0.0",
          "state": {
            "_dom_classes": [],
            "_model_module": "@jupyter-widgets/output",
            "_model_module_version": "1.0.0",
            "_model_name": "OutputModel",
            "_view_count": null,
            "_view_module": "@jupyter-widgets/output",
            "_view_module_version": "1.0.0",
            "_view_name": "OutputView",
            "layout": "IPY_MODEL_35de9fc5fb624cc88245bdcd60c63a97",
            "msg_id": "",
            "outputs": [
              {
                "output_type": "stream",
                "name": "stdout",
                "text": [
                  "Name: Guy Pariente\n",
                  "Email: guy.pariente@e.braude.ac.il\n",
                  "Course List: IntroductionToAI, Cloud Computing\n",
                  "Link: google.com\n"
                ]
              }
            ]
          }
        },
        "35de9fc5fb624cc88245bdcd60c63a97": {
          "model_module": "@jupyter-widgets/base",
          "model_name": "LayoutModel",
          "model_module_version": "1.2.0",
          "state": {
            "_model_module": "@jupyter-widgets/base",
            "_model_module_version": "1.2.0",
            "_model_name": "LayoutModel",
            "_view_count": null,
            "_view_module": "@jupyter-widgets/base",
            "_view_module_version": "1.2.0",
            "_view_name": "LayoutView",
            "align_content": null,
            "align_items": null,
            "align_self": null,
            "border": null,
            "bottom": null,
            "display": null,
            "flex": null,
            "flex_flow": null,
            "grid_area": null,
            "grid_auto_columns": null,
            "grid_auto_flow": null,
            "grid_auto_rows": null,
            "grid_column": null,
            "grid_gap": null,
            "grid_row": null,
            "grid_template_areas": null,
            "grid_template_columns": null,
            "grid_template_rows": null,
            "height": null,
            "justify_content": null,
            "justify_items": null,
            "left": null,
            "margin": null,
            "max_height": null,
            "max_width": null,
            "min_height": null,
            "min_width": null,
            "object_fit": null,
            "object_position": null,
            "order": null,
            "overflow": null,
            "overflow_x": null,
            "overflow_y": null,
            "padding": null,
            "right": null,
            "top": null,
            "visibility": null,
            "width": null
          }
        },
        "7379d3fc60a44a30ac0fcf1ed4dcb8d0": {
          "model_module": "@jupyter-widgets/controls",
          "model_name": "TextModel",
          "model_module_version": "1.5.0",
          "state": {
            "_dom_classes": [],
            "_model_module": "@jupyter-widgets/controls",
            "_model_module_version": "1.5.0",
            "_model_name": "TextModel",
            "_view_count": null,
            "_view_module": "@jupyter-widgets/controls",
            "_view_module_version": "1.5.0",
            "_view_name": "TextView",
            "continuous_update": true,
            "description": "Favorite TV Show:",
            "description_tooltip": null,
            "disabled": false,
            "layout": "IPY_MODEL_802f110cac734102ab3b5213ed7c1c8f",
            "placeholder": "​",
            "style": "IPY_MODEL_516bd874610f435b90096ed7823563b6",
            "value": "Friends"
          }
        },
        "802f110cac734102ab3b5213ed7c1c8f": {
          "model_module": "@jupyter-widgets/base",
          "model_name": "LayoutModel",
          "model_module_version": "1.2.0",
          "state": {
            "_model_module": "@jupyter-widgets/base",
            "_model_module_version": "1.2.0",
            "_model_name": "LayoutModel",
            "_view_count": null,
            "_view_module": "@jupyter-widgets/base",
            "_view_module_version": "1.2.0",
            "_view_name": "LayoutView",
            "align_content": null,
            "align_items": null,
            "align_self": null,
            "border": null,
            "bottom": null,
            "display": null,
            "flex": null,
            "flex_flow": null,
            "grid_area": null,
            "grid_auto_columns": null,
            "grid_auto_flow": null,
            "grid_auto_rows": null,
            "grid_column": null,
            "grid_gap": null,
            "grid_row": null,
            "grid_template_areas": null,
            "grid_template_columns": null,
            "grid_template_rows": null,
            "height": null,
            "justify_content": null,
            "justify_items": null,
            "left": null,
            "margin": null,
            "max_height": null,
            "max_width": null,
            "min_height": null,
            "min_width": null,
            "object_fit": null,
            "object_position": null,
            "order": null,
            "overflow": null,
            "overflow_x": null,
            "overflow_y": null,
            "padding": null,
            "right": null,
            "top": null,
            "visibility": null,
            "width": null
          }
        },
        "516bd874610f435b90096ed7823563b6": {
          "model_module": "@jupyter-widgets/controls",
          "model_name": "DescriptionStyleModel",
          "model_module_version": "1.5.0",
          "state": {
            "_model_module": "@jupyter-widgets/controls",
            "_model_module_version": "1.5.0",
            "_model_name": "DescriptionStyleModel",
            "_view_count": null,
            "_view_module": "@jupyter-widgets/base",
            "_view_module_version": "1.2.0",
            "_view_name": "StyleView",
            "description_width": ""
          }
        },
        "2b58761391f943a680cd24ad3e1a9acd": {
          "model_module": "@jupyter-widgets/controls",
          "model_name": "ButtonModel",
          "model_module_version": "1.5.0",
          "state": {
            "_dom_classes": [],
            "_model_module": "@jupyter-widgets/controls",
            "_model_module_version": "1.5.0",
            "_model_name": "ButtonModel",
            "_view_count": null,
            "_view_module": "@jupyter-widgets/controls",
            "_view_module_version": "1.5.0",
            "_view_name": "ButtonView",
            "button_style": "",
            "description": "Update TV Show",
            "disabled": false,
            "icon": "",
            "layout": "IPY_MODEL_81a0f1f5d1cc47dba2bd2bc4267110c1",
            "style": "IPY_MODEL_c74be0b8dd19455b8decef1ef69546ac",
            "tooltip": ""
          }
        },
        "81a0f1f5d1cc47dba2bd2bc4267110c1": {
          "model_module": "@jupyter-widgets/base",
          "model_name": "LayoutModel",
          "model_module_version": "1.2.0",
          "state": {
            "_model_module": "@jupyter-widgets/base",
            "_model_module_version": "1.2.0",
            "_model_name": "LayoutModel",
            "_view_count": null,
            "_view_module": "@jupyter-widgets/base",
            "_view_module_version": "1.2.0",
            "_view_name": "LayoutView",
            "align_content": null,
            "align_items": null,
            "align_self": null,
            "border": null,
            "bottom": null,
            "display": null,
            "flex": null,
            "flex_flow": null,
            "grid_area": null,
            "grid_auto_columns": null,
            "grid_auto_flow": null,
            "grid_auto_rows": null,
            "grid_column": null,
            "grid_gap": null,
            "grid_row": null,
            "grid_template_areas": null,
            "grid_template_columns": null,
            "grid_template_rows": null,
            "height": null,
            "justify_content": null,
            "justify_items": null,
            "left": null,
            "margin": null,
            "max_height": null,
            "max_width": null,
            "min_height": null,
            "min_width": null,
            "object_fit": null,
            "object_position": null,
            "order": null,
            "overflow": null,
            "overflow_x": null,
            "overflow_y": null,
            "padding": null,
            "right": null,
            "top": null,
            "visibility": null,
            "width": null
          }
        },
        "c74be0b8dd19455b8decef1ef69546ac": {
          "model_module": "@jupyter-widgets/controls",
          "model_name": "ButtonStyleModel",
          "model_module_version": "1.5.0",
          "state": {
            "_model_module": "@jupyter-widgets/controls",
            "_model_module_version": "1.5.0",
            "_model_name": "ButtonStyleModel",
            "_view_count": null,
            "_view_module": "@jupyter-widgets/base",
            "_view_module_version": "1.2.0",
            "_view_name": "StyleView",
            "button_color": null,
            "font_weight": ""
          }
        }
      }
    }
  },
  "cells": [
    {
      "cell_type": "markdown",
      "metadata": {
        "id": "view-in-github",
        "colab_type": "text"
      },
      "source": [
        "<a href=\"https://colab.research.google.com/github/gpariente/Cloud-Computing/blob/main/lab2.ipynb\" target=\"_parent\"><img src=\"https://colab.research.google.com/assets/colab-badge.svg\" alt=\"Open In Colab\"/></a>"
      ]
    },
    {
      "cell_type": "code",
      "execution_count": 1,
      "metadata": {
        "colab": {
          "base_uri": "https://localhost:8080/"
        },
        "id": "xMQ4_uXKeCAn",
        "outputId": "b1e09605-1274-476a-eba0-4a10c5fbc2b8"
      },
      "outputs": [
        {
          "output_type": "stream",
          "name": "stdout",
          "text": [
            "Mounted at /content/drive/\n"
          ]
        }
      ],
      "source": [
        "from google.colab import drive\n",
        "drive.mount('/content/drive/')\n"
      ]
    },
    {
      "cell_type": "code",
      "source": [
        "import json\n",
        "import ipywidgets as widgets\n",
        "\n",
        "with open(\"/content/drive/MyDrive/Cloud_Computing/students.json\", \"r\") as file:\n",
        "    students_data = json.load(file)\n",
        "\n",
        "student_names = [student[\"name\"] for student in students_data]\n",
        "dropdown = widgets.Dropdown(options=student_names,description=\"Select Student:\")\n",
        "display(dropdown)\n",
        "\n",
        "output_details = widgets.Output()\n",
        "display(output_details)\n",
        "\n",
        "tv_show_input = widgets.Text(\n",
        "    value=\"\",\n",
        "    description=\"Favorite TV Show:\"\n",
        ")\n",
        "\n",
        "update_button = widgets.Button(description=\"Update TV Show\")\n",
        "\n",
        "def show_details(change):\n",
        "    selected_student = change[\"new\"]\n",
        "    details = next((student for student in students_data if student[\"name\"] == selected_student), None)\n",
        "\n",
        "    with output_details:\n",
        "        output_details.clear_output()\n",
        "        print(f\"Name: {details['name']}\")\n",
        "        print(f\"Email: {details['email']}\")\n",
        "        print(f\"Course List: {details['CourseList']}\")\n",
        "        print(f\"Link: {details['Link']}\")\n",
        "\n",
        "dropdown.observe(show_details, names='value')\n",
        "\n",
        "def update_tv_show(button):\n",
        "    selected_student = dropdown.value\n",
        "    tv_show = tv_show_input.value\n",
        "\n",
        "    for student in students_data:\n",
        "        if student[\"name\"] == selected_student:\n",
        "            student[\"favorite_tv_show\"] = tv_show\n",
        "\n",
        "    with open(\"/content/drive/MyDrive/Cloud_Computing/students.json\", \"w\") as file:\n",
        "        json.dump(students_data, file, indent=2)\n",
        "\n",
        "    print(f\"Favorite TV show updated for {selected_student}.\")\n",
        "\n",
        "update_button.on_click(update_tv_show)\n",
        "display(tv_show_input, update_button)\n"
      ],
      "metadata": {
        "colab": {
          "base_uri": "https://localhost:8080/",
          "height": 217,
          "referenced_widgets": [
            "0c6b0d088c8c43e0938c56707e41aaf8",
            "c7ea3fd877d04fbeab9112f08dda0a39",
            "83a2df4c06144942990b68ba515318b7",
            "fe7185038b694c088de2695568a084d7",
            "35de9fc5fb624cc88245bdcd60c63a97",
            "7379d3fc60a44a30ac0fcf1ed4dcb8d0",
            "802f110cac734102ab3b5213ed7c1c8f",
            "516bd874610f435b90096ed7823563b6",
            "2b58761391f943a680cd24ad3e1a9acd",
            "81a0f1f5d1cc47dba2bd2bc4267110c1",
            "c74be0b8dd19455b8decef1ef69546ac"
          ]
        },
        "id": "cncn6LRFeN38",
        "outputId": "089ba410-ae06-495e-d3d2-6ce1f156cfc0"
      },
      "execution_count": 14,
      "outputs": [
        {
          "output_type": "display_data",
          "data": {
            "text/plain": [
              "Dropdown(description='Select Student:', options=('Guy Pariente', 'Rotem Porat', 'Almog Elbaz', 'Maayan Avittan…"
            ],
            "application/vnd.jupyter.widget-view+json": {
              "version_major": 2,
              "version_minor": 0,
              "model_id": "0c6b0d088c8c43e0938c56707e41aaf8"
            }
          },
          "metadata": {}
        },
        {
          "output_type": "display_data",
          "data": {
            "text/plain": [
              "Output()"
            ],
            "application/vnd.jupyter.widget-view+json": {
              "version_major": 2,
              "version_minor": 0,
              "model_id": "fe7185038b694c088de2695568a084d7"
            }
          },
          "metadata": {}
        },
        {
          "output_type": "display_data",
          "data": {
            "text/plain": [
              "Text(value='', description='Favorite TV Show:')"
            ],
            "application/vnd.jupyter.widget-view+json": {
              "version_major": 2,
              "version_minor": 0,
              "model_id": "7379d3fc60a44a30ac0fcf1ed4dcb8d0"
            }
          },
          "metadata": {}
        },
        {
          "output_type": "display_data",
          "data": {
            "text/plain": [
              "Button(description='Update TV Show', style=ButtonStyle())"
            ],
            "application/vnd.jupyter.widget-view+json": {
              "version_major": 2,
              "version_minor": 0,
              "model_id": "2b58761391f943a680cd24ad3e1a9acd"
            }
          },
          "metadata": {}
        },
        {
          "output_type": "stream",
          "name": "stdout",
          "text": [
            "Favorite TV show updated for Guy Pariente.\n",
            "Favorite TV show updated for Guy Pariente.\n"
          ]
        }
      ]
    }
  ]
}